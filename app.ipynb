{
 "cells": [
  {
   "cell_type": "code",
   "execution_count": 1,
   "id": "c0db6cf4",
   "metadata": {
    "scrolled": true
   },
   "outputs": [
    {
     "name": "stdout",
     "output_type": "stream",
     "text": [
      "Messenger Initialized in EDB\n",
      "EDB Path C:\\Users\\hzhou\\OneDrive - ANSYS, Inc\\PyCharm_project\\DCIR_Automation_github\\layout_database\\Galileo.aedb\n",
      "EDB Version 2021.1\n",
      "EDB Standalone True\n",
      "Database Opened\n",
      "Cell Galileo Opened\n",
      "C:\\Anaconda3\\envs\\AnsysEnv\\lib\\site-packages\\pyaedt\\dlls\\EDBLib\\DataModel.dll\n",
      "Refreshing the Components dictionary.\n",
      "Objects Initialized\n",
      "Builder Initialized\n",
      "Edb Initialized\n",
      "531 components\n",
      "432 nets\n",
      "initialization finished.. Elapsed time = 3.6 seconds\n",
      "Found VRM U3A1 output net_name BST_V3P3_S5 \n",
      "Extracting U3A1-BST_V1P0_S0-\n",
      "FB3L1  is not connected to ref net\n",
      "Extracting U3A1-BST_V3P3_S5-L3A1\n",
      "Found VRM U3A1 output net_name BST_V3P3_S5 \n",
      "J1A6  is not connected to ref net\n",
      "CR3A1  is not connected to ref net\n",
      "DS2A1  is not connected to ref net\n",
      "****************************************\n",
      "*** Extraction is done. Please to to next step ***\n",
      "****************************************\n"
     ]
    }
   ],
   "source": [
    "from utils.dcir_workflow import DcirWorkflow\n",
    "\n",
    "app_dcir = DcirWorkflow()\n",
    "app_dcir.extract_power_tree()"
   ]
  },
  {
   "cell_type": "code",
   "execution_count": null,
   "id": "bc649e87",
   "metadata": {},
   "outputs": [],
   "source": [
    "app_dcir.refresh_library()\n"
   ]
  },
  {
   "cell_type": "code",
   "execution_count": null,
   "id": "concerned-daily",
   "metadata": {},
   "outputs": [],
   "source": [
    "app_dcir.analyze()"
   ]
  },
  {
   "cell_type": "code",
   "execution_count": null,
   "id": "celtic-trance",
   "metadata": {},
   "outputs": [],
   "source": []
  }
 ],
 "metadata": {
  "kernelspec": {
   "display_name": "Python 3",
   "language": "python",
   "name": "python3"
  },
  "language_info": {
   "codemirror_mode": {
    "name": "ipython",
    "version": 3
   },
   "file_extension": ".py",
   "mimetype": "text/x-python",
   "name": "python",
   "nbconvert_exporter": "python",
   "pygments_lexer": "ipython3",
   "version": "3.8.5"
  }
 },
 "nbformat": 4,
 "nbformat_minor": 5
}
