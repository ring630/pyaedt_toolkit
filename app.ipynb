{
 "cells": [
  {
   "cell_type": "markdown",
   "id": "speaking-inflation",
   "metadata": {},
   "source": [
    "This example is made on Galileo board in EDB format. PCB layout file should be put in layout_database folder.\n",
    "\n",
    "There are two key input files should be provided by the user. \n",
    "\n",
    "1. Configuration.json. The user defines the source of each power tree. \n",
    "\n",
    "2. Library.json. This file contains component current consumptions. DCIR workflow will guide the user to fill in the library file. This file is intended to be re-used among different designs."
   ]
  },
  {
   "cell_type": "markdown",
   "id": "hybrid-development",
   "metadata": {},
   "source": [
    "Execute below code to create an example configuration file."
   ]
  },
  {
   "cell_type": "code",
   "execution_count": 1,
   "id": "engaging-tuning",
   "metadata": {},
   "outputs": [],
   "source": [
    "Create_template_files = True\n",
    "\n",
    "if Create_template_files:\n",
    "    from utils.dcir_workflow import UserConfiguration, Library\n",
    "\n",
    "    UserConfiguration().create_default_config_file()\n",
    "\n",
    "    Library().create_example_library()\n"
   ]
  },
  {
   "cell_type": "markdown",
   "id": "advance-algebra",
   "metadata": {},
   "source": [
    "Check [library.json](http://localhost:8888/edit/library.json) and [conifiguration.json](http://localhost:8888/edit/configuration.json) in working directory. \n"
   ]
  },
  {
   "cell_type": "code",
   "execution_count": 2,
   "id": "healthy-money",
   "metadata": {},
   "outputs": [],
   "source": [
    "from utils.dcir_workflow import DcirWorkflow\n",
    "\n",
    "edb_version = \"2021.2\"\n",
    "layout_file_name = \"Galileo.aedb\""
   ]
  },
  {
   "cell_type": "code",
   "execution_count": 3,
   "id": "c0db6cf4",
   "metadata": {
    "collapsed": true
   },
   "outputs": [
    {
     "name": "stdout",
     "output_type": "stream",
     "text": [
      "Messenger Initialized in EDB\n",
      "EDB Path C:\\Users\\hzhou\\OneDrive - ANSYS, Inc\\PyCharm_project\\DCIR_Galileo\\layout_database\\Galileo.aedb\n",
      "EDB Version 2021.2\n",
      "EDB Standalone True\n",
      "Database Opened\n",
      "Cell Galileo Opened\n",
      "C:\\Anaconda3\\envs\\dcir_dev\\lib\\site-packages\\pyaedt\\dlls\\EDBLib\\DataModel.dll\n",
      "Refreshing the Components dictionary.\n",
      "Objects Initialized\n",
      "Builder Initialized\n",
      "Edb Initialized\n",
      "531 components\n",
      "432 nets\n",
      "initialization finished.. Elapsed time = 3.5 seconds\n",
      "Found VRM U3A1 output net_name BST_V3P3_S5 \n",
      "Extracting U3A1-BST_V1P0_S0-\n",
      "FB3L1  is not connected to ref net\n",
      "Extracting U3A1-BST_V3P3_S5-L3A1\n",
      "Found VRM U3A1 output net_name BST_V3P3_S5 \n",
      "J1A6  is not connected to ref net\n",
      "CR3A1  is not connected to ref net\n",
      "DS2A1  is not connected to ref net\n",
      "****************************************\n",
      "*** Extraction is done. Please to to next step ***\n",
      "****************************************\n"
     ]
    }
   ],
   "source": [
    "app_dcir = DcirWorkflow(edb_version, layout_file_name)\n",
    "app_dcir.extract_power_tree()"
   ]
  },
  {
   "cell_type": "markdown",
   "id": "velvet-norwegian",
   "metadata": {},
   "source": [
    "Open [library_to_be_filled.json](http://localhost:8888/edit/library_to_be_filled.json) and fill in component current consumption by the reading specification. Name the power rails if possible and save.\n",
    "\n",
    "execute below code to update library. \n",
    "\n",
    "repeat this process until [library_to_be_filled.json](http://localhost:8888/edit/library_to_be_filled.json) is empty"
   ]
  },
  {
   "cell_type": "code",
   "execution_count": 4,
   "id": "bc649e87",
   "metadata": {
    "scrolled": true
   },
   "outputs": [
    {
     "name": "stdout",
     "output_type": "stream",
     "text": [
      "There are 0 components have no current definition\n",
      "Please check file library_to_be_filled.json\n"
     ]
    }
   ],
   "source": [
    "app_dcir.update_library()"
   ]
  },
  {
   "cell_type": "code",
   "execution_count": 5,
   "id": "cooperative-energy",
   "metadata": {},
   "outputs": [],
   "source": [
    "app_dcir.assign_current_from_library()\n",
    "app_dcir.write_result()"
   ]
  },
  {
   "cell_type": "markdown",
   "id": "corresponding-interest",
   "metadata": {},
   "source": [
    "Check the DCIR analysis result in [result folder](http://localhost:8888/tree/result). Go to the next step if everything is OK."
   ]
  },
  {
   "cell_type": "code",
   "execution_count": 6,
   "id": "concerned-daily",
   "metadata": {
    "collapsed": true
   },
   "outputs": [
    {
     "name": "stdout",
     "output_type": "stream",
     "text": [
      "Launching AEDT installation C:\\Program Files\\AnsysEM\\AnsysEM21.2\\Win64\n",
      "===================================================================================\n",
      "pyaedt Info: pyaedt v0.4.dev0\n",
      "pyaedt Info: Python version 3.8.5 (default, Sep  3 2020, 21:29:08) [MSC v.1916 64 bit (AMD64)]\n",
      "pyaedt Info: Analysis Loaded\n",
      "pyaedt Info: Loading Modeler.\n",
      "pyaedt Info: Modeler loaded.\n",
      "pyaedt Info: Messenger Initialized in EDB\n",
      "pyaedt Info: EDB Path C:\\Users\\hzhou\\OneDrive - ANSYS, Inc\\PyCharm_project\\DCIR_Galileo\\result\\Galileo.aedb\n",
      "pyaedt Info: EDB Version 2021.2\n",
      "pyaedt Info: EDB Standalone True\n",
      "pyaedt Info: Database Opened\n",
      "pyaedt Info: Cell Galileo Opened\n",
      "pyaedt Info: C:\\Anaconda3\\envs\\dcir_dev\\lib\\site-packages\\pyaedt\\dlls\\EDBLib\\DataModel.dll\n",
      "pyaedt Info: Refreshing the Components dictionary.\n",
      "pyaedt Info: Objects Initialized\n",
      "pyaedt Info: Builder Initialized\n",
      "pyaedt Info: Edb Initialized\n",
      "pyaedt Info: EDB loaded.\n",
      "pyaedt Info: Layers loaded.\n",
      "pyaedt Info: Primitives loaded.\n",
      "pyaedt Info: Modeler Loaded\n",
      "pyaedt Info: Solving design setup DCIR_setup\n",
      "DCIR Done\n",
      "Simulation is finished.. Elapsed time = 27.5 seconds\n",
      "pyaedt Info: Closing the active Galileo AEDT Project\n",
      "****************************************\n",
      "*** DCIR analysis is done\n",
      "****************************************\n",
      "*** Please see results here result\\210907-16-37-53\n"
     ]
    }
   ],
   "source": [
    "app_dcir.analyze()"
   ]
  },
  {
   "cell_type": "markdown",
   "id": "better-trailer",
   "metadata": {},
   "source": [
    "Check extracted components on power trees again in [result folder](http://localhost:8888/tree/result). \n",
    "\n",
    "An AEDT project is created in [result folder](http://localhost:8888/tree/result). Open it in AEDT for post-processing"
   ]
  }
 ],
 "metadata": {
  "kernelspec": {
   "display_name": "Python 3",
   "language": "python",
   "name": "python3"
  },
  "language_info": {
   "codemirror_mode": {
    "name": "ipython",
    "version": 3
   },
   "file_extension": ".py",
   "mimetype": "text/x-python",
   "name": "python",
   "nbconvert_exporter": "python",
   "pygments_lexer": "ipython3",
   "version": "3.8.5"
  }
 },
 "nbformat": 4,
 "nbformat_minor": 5
}
