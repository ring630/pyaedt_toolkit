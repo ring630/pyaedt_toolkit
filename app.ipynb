{
 "cells": [
  {
   "cell_type": "code",
   "execution_count": 1,
   "id": "1721eb56",
   "metadata": {},
   "outputs": [],
   "source": [
    "from IPython.display import FileLink, FileLinks\n",
    "\n",
    "from utils.dcir_workflow import DcirWorkflow"
   ]
  },
  {
   "cell_type": "code",
   "execution_count": 2,
   "id": "c0db6cf4",
   "metadata": {},
   "outputs": [
    {
     "name": "stdout",
     "output_type": "stream",
     "text": [
      "Messenger Initialized in EDB\n",
      "EDB Path C:\\Users\\hzhou\\OneDrive - ANSYS, Inc\\PyCharm_project\\DCIR_Automation_github\\layout_database\\Galileo.aedb\n",
      "EDB Version 2021.1\n",
      "EDB Standalone True\n",
      "Database Opened\n",
      "Cell Galileo Opened\n",
      "C:\\Anaconda3\\envs\\AnsysEnv\\lib\\site-packages\\pyaedt\\dlls\\EDBLib\\DataModel.dll\n",
      "Refreshing the Components dictionary.\n",
      "Objects Initialized\n",
      "Builder Initialized\n",
      "Edb Initialized\n",
      "531 components\n",
      "432 nets\n",
      "initialization finished.. Elapsed time = 3.7 seconds\n",
      "Found VRM U3A1 output net_name BST_V3P3_S5 \n",
      "Extracting U3A1-BST_V1P0_S0-\n",
      "FB3L1  is not connected to ref net\n",
      "Extracting U3A1-BST_V3P3_S5-L3A1\n",
      "Found VRM U3A1 output net_name BST_V3P3_S5 \n",
      "J1A6  is not connected to ref net\n",
      "CR3A1  is not connected to ref net\n",
      "DS2A1  is not connected to ref net\n",
      "****************************************\n",
      "*** Extraction is done. Please to to next step ***\n",
      "****************************************\n"
     ]
    }
   ],
   "source": [
    "app_dcir = DcirWorkflow()\n",
    "app_dcir.extract_power_tree()"
   ]
  },
  {
   "cell_type": "code",
   "execution_count": 3,
   "id": "bc649e87",
   "metadata": {},
   "outputs": [
    {
     "name": "stdout",
     "output_type": "stream",
     "text": [
      "There are 3 components have no current definition\n",
      "Please check file library_to_be_filled.json\n"
     ]
    }
   ],
   "source": [
    "\n",
    "app_dcir.refresh_library()\n"
   ]
  },
  {
   "cell_type": "code",
   "execution_count": 4,
   "id": "concerned-daily",
   "metadata": {},
   "outputs": [
    {
     "name": "stdout",
     "output_type": "stream",
     "text": [
      "Launching AEDT installation C:\\Program Files\\AnsysEM\\AnsysEM21.1\\Win64\n",
      "===================================================================================\n",
      "pyaedt Info: pyaedt v0.4.dev0\n",
      "pyaedt Info: Python version 3.8.5 (default, Sep  3 2020, 21:29:08) [MSC v.1916 64 bit (AMD64)]\n",
      "pyaedt Info: Analysis Loaded\n",
      "pyaedt Info: Loading Modeler.\n",
      "pyaedt Info: Modeler loaded.\n",
      "pyaedt Info: Messenger Initialized in EDB\n",
      "pyaedt Info: EDB Path C:\\Users\\hzhou\\OneDrive - ANSYS, Inc\\PyCharm_project\\DCIR_Automation_github\\result\\Galileo.aedb\n",
      "pyaedt Info: EDB Version 2021.1\n",
      "pyaedt Info: EDB Standalone True\n",
      "pyaedt Info: Database Opened\n",
      "pyaedt Info: Cell Galileo Opened\n",
      "pyaedt Info: C:\\Anaconda3\\envs\\AnsysEnv\\lib\\site-packages\\pyaedt\\dlls\\EDBLib\\DataModel.dll\n",
      "pyaedt Info: Refreshing the Components dictionary.\n",
      "pyaedt Info: Objects Initialized\n",
      "pyaedt Info: Builder Initialized\n",
      "pyaedt Info: Edb Initialized\n",
      "pyaedt Info: EDB loaded.\n",
      "pyaedt Info: Layers loaded.\n",
      "pyaedt Info: Primitives loaded.\n",
      "pyaedt Info: Modeler Loaded\n",
      "pyaedt Info: Solving design setup DCIR_setup\n",
      "DCIR Done\n",
      "Simulation is finished.. Elapsed time = 20.9 seconds\n",
      "pyaedt Info: Closing the active Galileo AEDT Project\n",
      "****************************************\n",
      "*** DCIR analysis is done\n",
      "****************************************\n",
      "*** Please see results here result\\210903-16-18-57\n"
     ]
    }
   ],
   "source": [
    "app_dcir.analyze()"
   ]
  },
  {
   "cell_type": "code",
   "execution_count": null,
   "id": "celtic-trance",
   "metadata": {},
   "outputs": [],
   "source": []
  }
 ],
 "metadata": {
  "kernelspec": {
   "display_name": "Python 3",
   "language": "python",
   "name": "python3"
  },
  "language_info": {
   "codemirror_mode": {
    "name": "ipython",
    "version": 3
   },
   "file_extension": ".py",
   "mimetype": "text/x-python",
   "name": "python",
   "nbconvert_exporter": "python",
   "pygments_lexer": "ipython3",
   "version": "3.8.5"
  }
 },
 "nbformat": 4,
 "nbformat_minor": 5
}
