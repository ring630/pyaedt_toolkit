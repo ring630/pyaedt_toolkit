{
 "cells": [
  {
   "cell_type": "markdown",
   "id": "speaking-inflation",
   "metadata": {},
   "source": [
    "This example is made on Galileo board in EDB format. PCB layout file should be put in layout_database folder.\n",
    "\n",
    "There are two key input files should be provided by the user. \n",
    "\n",
    "1. Configuration.json. The user defines the source of each power tree. \n",
    "\n",
    "2. Library.json. This file contains component current consumptions. DCIR workflow will guide the user to fill in the library file. This file is intended to be re-used among different designs.\n"
   ]
  },
  {
   "cell_type": "markdown",
   "id": "hybrid-development",
   "metadata": {},
   "source": [
    "# Step 0 - Execute below code to create an example configuration file."
   ]
  },
  {
   "cell_type": "code",
   "execution_count": 1,
   "id": "engaging-tuning",
   "metadata": {},
   "outputs": [],
   "source": [
    "Create_template_files = True\n",
    "\n",
    "if Create_template_files:\n",
    "    from utils.dcir_workflow import UserConfiguration, Library\n",
    "\n",
    "    UserConfiguration().create_default_config_file()\n",
    "\n",
    "    Library().create_example_library()\n"
   ]
  },
  {
   "cell_type": "markdown",
   "id": "advance-algebra",
   "metadata": {},
   "source": [
    "Check below json files in working directory.\n",
    "\n",
    "1. library.json. [http://localhost:8888/edit/DCIR_Galileo/library.json](http://localhost:8888/edit/DCIR_Galileo/library.json)\n",
    "    \n",
    "    This is the local component power library.\n",
    "\n",
    "2. configuration.json.  [http://localhost:8888/edit/DCIR_Galileo/configuration.json](http://localhost:8888/edit/DCIR_Galileo/configuration.json)\n",
    "    \n",
    "    This is the user defined input file. The user needs to specify source components for each power tree to be extracted. The extraction can find the source component output by either output net name or output inductor reference designator.\n"
   ]
  },
  {
   "cell_type": "markdown",
   "id": "collected-decline",
   "metadata": {},
   "source": [
    "# Step 1 - Specify EDB version and layout file"
   ]
  },
  {
   "cell_type": "code",
   "execution_count": 2,
   "id": "healthy-money",
   "metadata": {},
   "outputs": [],
   "source": [
    "from utils.dcir_workflow import DcirWorkflow\n",
    "\n",
    "edb_version = \"2021.2\"\n",
    "layout_file_name = \"Galileo.aedb\""
   ]
  },
  {
   "cell_type": "code",
   "execution_count": 3,
   "id": "c0db6cf4",
   "metadata": {
    "collapsed": true
   },
   "outputs": [
    {
     "name": "stdout",
     "output_type": "stream",
     "text": [
      "Messenger Initialized in EDB\n",
      "EDB Path C:\\Users\\hzhou\\OneDrive - ANSYS, Inc\\0_Jupyter\\DCIR_Galileo\\layout_database\\Galileo.aedb\n",
      "EDB Version 2021.2\n",
      "EDB Standalone True\n",
      "Database Opened\n",
      "Cell Galileo Opened\n",
      "C:\\Anaconda3\\envs\\dcir_dev\\lib\\site-packages\\pyaedt\\dlls\\EDBLib\\DataModel.dll\n",
      "Refreshing the Components dictionary.\n",
      "Objects Initialized\n",
      "Builder Initialized\n",
      "Edb Initialized\n",
      "531 components\n",
      "432 nets\n",
      "initialization finished.. Elapsed time = 3.4 seconds\n",
      "Found VRM U3A1 output net_name BST_V3P3_S5 \n",
      "Extracting U3A1-BST_V1P0_S0-\n",
      "FB3L1  is not connected to ref net\n",
      "Extracting U3A1-BST_V3P3_S5-L3A1\n",
      "Found VRM U3A1 output net_name BST_V3P3_S5 \n",
      "J1A6  is not connected to ref net\n",
      "CR3A1  is not connected to ref net\n",
      "DS2A1  is not connected to ref net\n",
      "****************************************\n",
      "*** Extraction is done. Please to to next step ***\n",
      "****************************************\n"
     ]
    }
   ],
   "source": [
    "app_dcir = DcirWorkflow(edb_version, layout_file_name)\n",
    "app_dcir.extract_power_tree()"
   ]
  },
  {
   "cell_type": "markdown",
   "id": "velvet-norwegian",
   "metadata": {},
   "source": [
    "Open library_to_be_filled.json and fill in component current consumption by the reading specification. Name the power rails if possible and save it.\n",
    "\n",
    "[http://localhost:8888/edit/DCIR_Galileo/library_to_be_filled.json](http://localhost:8888/edit/DCIR_Galileo/library_to_be_filled.json)\n"
   ]
  },
  {
   "cell_type": "markdown",
   "id": "unavailable-appeal",
   "metadata": {},
   "source": [
    "execute below code to update library. \n",
    "\n",
    "repeat this process until [library_to_be_filled.json](http://localhost:8888/edit/library_to_be_filled.json) is empty"
   ]
  },
  {
   "cell_type": "markdown",
   "id": "coastal-recycling",
   "metadata": {},
   "source": [
    "# Step 2 - Update Library"
   ]
  },
  {
   "cell_type": "code",
   "execution_count": 5,
   "id": "bc649e87",
   "metadata": {
    "scrolled": false
   },
   "outputs": [
    {
     "name": "stdout",
     "output_type": "stream",
     "text": [
      "add new components G84017-001\n",
      "There are 0 components have no current definition\n",
      "Please check file library_to_be_filled.json\n"
     ]
    }
   ],
   "source": [
    "app_dcir.update_library()"
   ]
  },
  {
   "cell_type": "markdown",
   "id": "nasty-discipline",
   "metadata": {},
   "source": [
    "# Step 3 - Check Power Tree"
   ]
  },
  {
   "cell_type": "code",
   "execution_count": 6,
   "id": "cooperative-energy",
   "metadata": {},
   "outputs": [],
   "source": [
    "app_dcir.assign_current_from_library()\n",
    "app_dcir.write_result(suffix=\"-preview\")"
   ]
  },
  {
   "cell_type": "markdown",
   "id": "corresponding-interest",
   "metadata": {},
   "source": [
    "Check the DCIR analysis result in result folder. Go to the next step if everything is OK.\n",
    "\n",
    "[http://localhost:8888/tree/DCIR_Galileo/result](http://localhost:8888/tree/DCIR_Galileo/result)"
   ]
  },
  {
   "cell_type": "markdown",
   "id": "pleased-camel",
   "metadata": {},
   "source": [
    "# Step 4 - Analyze and Post-processing"
   ]
  },
  {
   "cell_type": "code",
   "execution_count": 7,
   "id": "concerned-daily",
   "metadata": {},
   "outputs": [
    {
     "name": "stdout",
     "output_type": "stream",
     "text": [
      "Launching AEDT installation C:\\Program Files\\AnsysEM\\AnsysEM21.2\\Win64\n",
      "===================================================================================\n",
      "pyaedt Info: pyaedt v0.4.dev0\n",
      "pyaedt Info: Python version 3.8.5 (default, Sep  3 2020, 21:29:08) [MSC v.1916 64 bit (AMD64)]\n",
      "pyaedt Info: Analysis Loaded\n",
      "pyaedt Info: Loading Modeler.\n",
      "pyaedt Info: Modeler loaded.\n",
      "pyaedt Info: Messenger Initialized in EDB\n",
      "pyaedt Info: EDB Path C:\\Users\\hzhou\\OneDrive - ANSYS, Inc\\0_Jupyter\\DCIR_Galileo\\result\\Galileo.aedb\n",
      "pyaedt Info: EDB Version 2021.2\n",
      "pyaedt Info: EDB Standalone True\n",
      "pyaedt Info: Database Opened\n",
      "pyaedt Info: Cell Galileo Opened\n",
      "pyaedt Info: C:\\Anaconda3\\envs\\dcir_dev\\lib\\site-packages\\pyaedt\\dlls\\EDBLib\\DataModel.dll\n",
      "pyaedt Info: Refreshing the Components dictionary.\n",
      "pyaedt Info: Objects Initialized\n",
      "pyaedt Info: Builder Initialized\n",
      "pyaedt Info: Edb Initialized\n",
      "pyaedt Info: EDB loaded.\n",
      "pyaedt Info: Layers loaded.\n",
      "pyaedt Info: Primitives loaded.\n",
      "pyaedt Info: Modeler Loaded\n",
      "pyaedt Info: Solving design setup DCIR_setup\n",
      "DCIR Done\n",
      "Simulation is finished.. Elapsed time = 25.1 seconds\n",
      "pyaedt Info: Closing the active Galileo AEDT Project\n",
      "****************************************\n",
      "*** DCIR analysis is done\n",
      "****************************************\n",
      "*** Please see results here result\\210909-16-01-38\n"
     ]
    }
   ],
   "source": [
    "app_dcir.analyze()"
   ]
  },
  {
   "cell_type": "markdown",
   "id": "better-trailer",
   "metadata": {},
   "source": [
    "Check extracted components on power trees again in result folder. \n",
    "\n",
    "An AEDT project is created in result folder. Open it in AEDT for post-processing\n",
    "\n",
    "[http://localhost:8888/tree/DCIR_Galileo/result](http://localhost:8888/tree/DCIR_Galileo/result)"
   ]
  }
 ],
 "metadata": {
  "kernelspec": {
   "display_name": "Python 3",
   "language": "python",
   "name": "python3"
  },
  "language_info": {
   "codemirror_mode": {
    "name": "ipython",
    "version": 3
   },
   "file_extension": ".py",
   "mimetype": "text/x-python",
   "name": "python",
   "nbconvert_exporter": "python",
   "pygments_lexer": "ipython3",
   "version": "3.8.5"
  }
 },
 "nbformat": 4,
 "nbformat_minor": 5
}
